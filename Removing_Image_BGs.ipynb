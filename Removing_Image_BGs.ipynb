{
 "cells": [
  {
   "cell_type": "code",
   "execution_count": 71,
   "id": "6b3ea3ad-9336-48c2-9643-053637d17f18",
   "metadata": {},
   "outputs": [],
   "source": [
    "import cv2\n",
    "import numpy as np\n",
    "from skimage import filters\n",
    "import os\n",
    "from PIL import Image"
   ]
  },
  {
   "cell_type": "code",
   "execution_count": 72,
   "id": "d12ae0e5-bd63-47ab-b0c3-f416cea7e887",
   "metadata": {},
   "outputs": [],
   "source": [
    "def remove_background(image_path, output_path):\n",
    "    # Read the image\n",
    "    img = cv2.imread(image_path)\n",
    "    \n",
    "    # Convert to RGB (OpenCV uses BGR by default)\n",
    "    img_rgb = cv2.cvtColor(img, cv2.COLOR_BGR2RGB)\n",
    "    \n",
    "    # Convert to grayscale\n",
    "    gray = cv2.cvtColor(img, cv2.COLOR_BGR2GRAY)\n",
    "    \n",
    "    # Apply Gaussian blur\n",
    "    blurred = cv2.GaussianBlur(gray, (5, 5), 0)\n",
    "    \n",
    "    # Use Otsu's method for thresholding\n",
    "    _, binary = cv2.threshold(blurred, 0, 255, cv2.THRESH_BINARY_INV + cv2.THRESH_OTSU)\n",
    "    \n",
    "    # Apply morphological operations to clean up the mask\n",
    "    kernel = np.ones((5,5), np.uint8)\n",
    "    cleaned = cv2.morphologyEx(binary, cv2.MORPH_CLOSE, kernel)\n",
    "    cleaned = cv2.morphologyEx(cleaned, cv2.MORPH_OPEN, kernel)\n",
    "    \n",
    "    # Find the largest contour (assuming it's the leaf)\n",
    "    contours, _ = cv2.findContours(cleaned, cv2.RETR_EXTERNAL, cv2.CHAIN_APPROX_SIMPLE)\n",
    "    if contours:\n",
    "        largest_contour = max(contours, key=cv2.contourArea)\n",
    "        \n",
    "        # Create a mask from the largest contour\n",
    "        mask = np.zeros(cleaned.shape, np.uint8)\n",
    "        cv2.drawContours(mask, [largest_contour], 0, (255), -1)\n",
    "        \n",
    "        # Apply the mask to the original image\n",
    "        result = cv2.bitwise_and(img_rgb, img_rgb, mask=mask)\n",
    "        \n",
    "        # Convert black background to transparent\n",
    "        rgba = cv2.cvtColor(result, cv2.COLOR_RGB2RGBA)\n",
    "        rgba[:, :, 3] = mask\n",
    "        \n",
    "        # Save the result\n",
    "        Image.fromarray(rgba).save(output_path)\n",
    "    else:\n",
    "        print(f\"No contours found in {image_path}\")"
   ]
  },
  {
   "cell_type": "code",
   "execution_count": 73,
   "id": "f21c3f42-86ba-4896-9ec2-f6249fd113bd",
   "metadata": {},
   "outputs": [],
   "source": [
    "def process_directory(input_dir, output_dir):\n",
    "    if not os.path.exists(output_dir):\n",
    "        os.makedirs(output_dir)\n",
    "    \n",
    "    for filename in os.listdir(input_dir):\n",
    "        if filename.lower().endswith(('.png', '.jpg', '.jpeg')):\n",
    "            input_path = os.path.join(input_dir, filename)\n",
    "            output_path = os.path.join(output_dir, f\"processed_{filename.split('.')[0]}.png\")\n",
    "            remove_background(input_path, output_path)\n",
    "            print(f\"Processed {filename}\")"
   ]
  },
  {
   "cell_type": "code",
   "execution_count": 74,
   "id": "0401e82e-f432-4bdb-9624-766eccf1eb9d",
   "metadata": {},
   "outputs": [],
   "source": [
    "# Usage \n",
    "base_input_dir = r\"C:\\Users\\Ruvarashe\\Desktop\\Alumna Changemaker\\Offiicial Selected Dataset\\Zingiber officinale Roscoe (Test)\"\n",
    "base_output_dir = \"C:\\Users\\Ruvarashe\\Desktop\\Alumna Changemaker\\Offiicial Selected Dataset\\Zingiber Test Remove\""
   ]
  },
  {
   "cell_type": "code",
   "execution_count": 75,
   "id": "ff07f396-b181-40de-873a-8f296c1b59ed",
   "metadata": {},
   "outputs": [
    {
     "name": "stdout",
     "output_type": "stream",
     "text": [
      "Processing images from: C:\\Users\\Ruvarashe\\Desktop\\Alumna Changemaker\\Offiicial Selected Dataset\\Zingiber officinale Roscoe (Test)\\98_300_400.jpg\n",
      "Saving processed images to: C:\\Users\\Ruvarashe\\Desktop\\Alumna Changemaker\\Offiicial Selected Dataset\\Zingiber Test Remove\\98_300_400.jpg\n"
     ]
    }
   ],
   "source": [
    "print(f\"Processing images from: {base_input_dir}\")\n",
    "print(f\"Saving processed images to: {base_output_dir}\")"
   ]
  },
  {
   "cell_type": "code",
   "execution_count": 76,
   "id": "53e7761e-85a9-4ff0-a53b-aa5bb5cfcb07",
   "metadata": {},
   "outputs": [
    {
     "ename": "NotADirectoryError",
     "evalue": "[WinError 267] The directory name is invalid: 'C:\\\\Users\\\\Ruvarashe\\\\Desktop\\\\Alumna Changemaker\\\\Offiicial Selected Dataset\\\\Zingiber officinale Roscoe (Test)\\\\98_300_400.jpg'",
     "output_type": "error",
     "traceback": [
      "\u001b[1;31m---------------------------------------------------------------------------\u001b[0m",
      "\u001b[1;31mNotADirectoryError\u001b[0m                        Traceback (most recent call last)",
      "Cell \u001b[1;32mIn[76], line 1\u001b[0m\n\u001b[1;32m----> 1\u001b[0m process_directory(input_dir, output_dir)\n\u001b[0;32m      2\u001b[0m \u001b[38;5;28mprint\u001b[39m(\u001b[38;5;124m\"\u001b[39m\u001b[38;5;124mProcessing complete!\u001b[39m\u001b[38;5;124m\"\u001b[39m)\n",
      "Cell \u001b[1;32mIn[73], line 5\u001b[0m, in \u001b[0;36mprocess_directory\u001b[1;34m(input_dir, output_dir)\u001b[0m\n\u001b[0;32m      2\u001b[0m \u001b[38;5;28;01mif\u001b[39;00m \u001b[38;5;129;01mnot\u001b[39;00m os\u001b[38;5;241m.\u001b[39mpath\u001b[38;5;241m.\u001b[39mexists(output_dir):\n\u001b[0;32m      3\u001b[0m     os\u001b[38;5;241m.\u001b[39mmakedirs(output_dir)\n\u001b[1;32m----> 5\u001b[0m \u001b[38;5;28;01mfor\u001b[39;00m filename \u001b[38;5;129;01min\u001b[39;00m os\u001b[38;5;241m.\u001b[39mlistdir(input_dir):\n\u001b[0;32m      6\u001b[0m     \u001b[38;5;28;01mif\u001b[39;00m filename\u001b[38;5;241m.\u001b[39mlower()\u001b[38;5;241m.\u001b[39mendswith((\u001b[38;5;124m'\u001b[39m\u001b[38;5;124m.png\u001b[39m\u001b[38;5;124m'\u001b[39m, \u001b[38;5;124m'\u001b[39m\u001b[38;5;124m.jpg\u001b[39m\u001b[38;5;124m'\u001b[39m, \u001b[38;5;124m'\u001b[39m\u001b[38;5;124m.jpeg\u001b[39m\u001b[38;5;124m'\u001b[39m)):\n\u001b[0;32m      7\u001b[0m         input_path \u001b[38;5;241m=\u001b[39m os\u001b[38;5;241m.\u001b[39mpath\u001b[38;5;241m.\u001b[39mjoin(input_dir, filename)\n",
      "\u001b[1;31mNotADirectoryError\u001b[0m: [WinError 267] The directory name is invalid: 'C:\\\\Users\\\\Ruvarashe\\\\Desktop\\\\Alumna Changemaker\\\\Offiicial Selected Dataset\\\\Zingiber officinale Roscoe (Test)\\\\98_300_400.jpg'"
     ]
    }
   ],
   "source": [
    "process_directory(input_dir, output_dir)\n",
    "print(\"Processing complete!\")"
   ]
  }
 ],
 "metadata": {
  "kernelspec": {
   "display_name": "Python 3 (ipykernel)",
   "language": "python",
   "name": "python3"
  },
  "language_info": {
   "codemirror_mode": {
    "name": "ipython",
    "version": 3
   },
   "file_extension": ".py",
   "mimetype": "text/x-python",
   "name": "python",
   "nbconvert_exporter": "python",
   "pygments_lexer": "ipython3",
   "version": "3.11.7"
  }
 },
 "nbformat": 4,
 "nbformat_minor": 5
}
